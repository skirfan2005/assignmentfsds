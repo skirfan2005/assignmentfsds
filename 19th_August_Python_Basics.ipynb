{
 "cells": [
  {
   "cell_type": "code",
   "execution_count": 15,
   "id": "8a991925-8934-40e0-b36e-17a3d7f0eda8",
   "metadata": {},
   "outputs": [
    {
     "name": "stdout",
     "output_type": "stream",
     "text": [
      "x= 3\n",
      "y= 2\n"
     ]
    }
   ],
   "source": [
    "'''Declare two variables, `x` and `y`, and assign them integer values. Swap the\n",
    "values of these variables without using any temporary variable.'''\n",
    "x=2\n",
    "y=3\n",
    "x=x+y\n",
    "y=x-y\n",
    "x=x-y\n",
    "print(\"x=\",x)\n",
    "print('y=',y)"
   ]
  },
  {
   "cell_type": "code",
   "execution_count": 16,
   "id": "d89340d9-d118-4fd2-a7cf-791510ff5441",
   "metadata": {},
   "outputs": [
    {
     "name": "stdin",
     "output_type": "stream",
     "text": [
      "Enter the length: 3\n",
      "Enter the width: 2\n"
     ]
    },
    {
     "name": "stdout",
     "output_type": "stream",
     "text": [
      "Area of rectangle= 6\n"
     ]
    }
   ],
   "source": [
    "'''Create a program that calculates the area of a rectangle. Take the length and\n",
    "width as inputs from the user and store them in variables. Calculate and\n",
    "display the area.'''\n",
    "length=int(input(\"Enter the length:\"))\n",
    "width=int(input(\"Enter the width:\"))\n",
    "area=length*width\n",
    "print(\"Area of rectangle=\",area)"
   ]
  },
  {
   "cell_type": "code",
   "execution_count": 17,
   "id": "a90866b9-b477-4bdd-8a33-3190f6b69678",
   "metadata": {},
   "outputs": [
    {
     "name": "stdin",
     "output_type": "stream",
     "text": [
      "Enter temperature in celsius: 99.2\n"
     ]
    },
    {
     "name": "stdout",
     "output_type": "stream",
     "text": [
      "In Fahrenheit: 210.56\n"
     ]
    }
   ],
   "source": [
    "'''Write a Python program that converts temperatures from Celsius to\n",
    "Fahrenheit. Take the temperature in Celsius as input, store it in a variable,\n",
    "convert it to Fahrenheit, and display the result.'''\n",
    "celsius=float(input(\"Enter temperature in celsius:\"))\n",
    "print(\"In Fahrenheit:\",(celsius*(9/5))+32)"
   ]
  },
  {
   "cell_type": "code",
   "execution_count": 18,
   "id": "1f7050f9-5fd4-428e-9d2b-c7ac2bac6180",
   "metadata": {},
   "outputs": [
    {
     "name": "stdin",
     "output_type": "stream",
     "text": [
      " irfan\n"
     ]
    },
    {
     "name": "stdout",
     "output_type": "stream",
     "text": [
      "length of x is: 5\n"
     ]
    }
   ],
   "source": [
    "'''Write a Python program that takes a string as input and prints the length of\n",
    "the string.'''\n",
    "x=str(input())\n",
    "print(\"length of x is:\",len(x))\n"
   ]
  },
  {
   "cell_type": "code",
   "execution_count": 19,
   "id": "82ed4491-cffc-4b7e-ac7f-89864dfc62a6",
   "metadata": {},
   "outputs": [
    {
     "name": "stdin",
     "output_type": "stream",
     "text": [
      "Write any sentence: I am attending the class daily\n"
     ]
    },
    {
     "name": "stdout",
     "output_type": "stream",
     "text": [
      "Number of vowels in given string: 9\n"
     ]
    }
   ],
   "source": [
    "'''Create a program that takes a sentence from the user and counts the number\n",
    "of vowels (a, e, i, o, u) in the string.'''\n",
    "sentence=str(input(\"Write any sentence:\"))\n",
    "count=0\n",
    "sentence=sentence.lower()\n",
    "for char in sentence:\n",
    "    if char in \"aeiou\":\n",
    "        count+=1\n",
    "print(\"Number of vowels in given string:\",count)\n",
    "\n"
   ]
  },
  {
   "cell_type": "code",
   "execution_count": 20,
   "id": "670349c4-e5a5-46a9-9e4e-63d3098694b5",
   "metadata": {},
   "outputs": [
    {
     "name": "stdout",
     "output_type": "stream",
     "text": [
      "Reverse of the order of characters in the given string: nafri\n"
     ]
    }
   ],
   "source": [
    "'''Given a string, reverse the order of characters using string slicing and print\n",
    "the reversed string.'''\n",
    "name=\"irfan\"\n",
    "reverse=name[::-1]\n",
    "print(\"Reverse of the order of characters in the given string:\",reverse)"
   ]
  },
  {
   "cell_type": "code",
   "execution_count": 21,
   "id": "1d759afe-f06e-4da5-9e8b-a1f4db23134a",
   "metadata": {},
   "outputs": [
    {
     "name": "stdin",
     "output_type": "stream",
     "text": [
      " mom\n"
     ]
    },
    {
     "name": "stdout",
     "output_type": "stream",
     "text": [
      "It's a palindrome\n"
     ]
    }
   ],
   "source": [
    "'''Write a program that takes a string as input and checks if it is a palindrome\n",
    "(reads the same forwards and backwards).'''\n",
    "take=str(input())\n",
    "if take==take[::-1]:\n",
    "    print(\"It's a palindrome\")\n",
    "else:\n",
    "    print(\"It's not a palindrome\")\n",
    "\n",
    "    "
   ]
  },
  {
   "cell_type": "code",
   "execution_count": 23,
   "id": "6a593580-d743-459d-8618-8337ef3e7106",
   "metadata": {},
   "outputs": [
    {
     "name": "stdin",
     "output_type": "stream",
     "text": [
      " I am proud to an indian\n"
     ]
    },
    {
     "name": "stdout",
     "output_type": "stream",
     "text": [
      "printing the string without spaces Iamproudtoanindian\n"
     ]
    }
   ],
   "source": [
    "'''Create a program that takes a string as input and removes all the spaces from\n",
    "it. Print the modified string without spaces.'''\n",
    "take1=str(input())\n",
    "print(\"printing the string without spaces\",take1.replace(\" \",\"\"))"
   ]
  }
 ],
 "metadata": {
  "kernelspec": {
   "display_name": "Python 3 (ipykernel)",
   "language": "python",
   "name": "python3"
  },
  "language_info": {
   "codemirror_mode": {
    "name": "ipython",
    "version": 3
   },
   "file_extension": ".py",
   "mimetype": "text/x-python",
   "name": "python",
   "nbconvert_exporter": "python",
   "pygments_lexer": "ipython3",
   "version": "3.10.8"
  }
 },
 "nbformat": 4,
 "nbformat_minor": 5
}
